{
 "cells": [
  {
   "cell_type": "code",
   "execution_count": 1,
   "metadata": {
    "collapsed": true
   },
   "outputs": [],
   "source": [
    "from __future__ import absolute_import\n",
    "from __future__ import division\n",
    "from __future__ import print_function\n",
    "\n",
    "import os\n",
    "import sys\n",
    "import numpy as np\n",
    "import tensorflow as tf\n",
    "import matplotlib.pyplot as plt\n",
    "\n",
    "from nets import *\n",
    "from cfgs import *\n",
    "from data import *\n",
    "from trainer import *"
   ]
  },
  {
   "cell_type": "code",
   "execution_count": 3,
   "metadata": {
    "collapsed": true
   },
   "outputs": [],
   "source": [
    "%matplotlib inline\n",
    "save_plot = False\n",
    "plt.rcParams.update({'font.size': 10, 'axes.labelsize': 'x-large'})\n",
    "D = 1000\n",
    "\n",
    "X_tst = np.random.rand(10000, 10)\n",
    "\n",
    "cfg = additive_1x10_uniform_config.cfg\n",
    "cfg.test.batch_size = D\n",
    "cfg.test.num_batches = int(X_tst.shape[0]/cfg.test.batch_size)\n",
    "cfg.test.save_output = True"
   ]
  },
  {
   "cell_type": "code",
   "execution_count": 4,
   "metadata": {
    "collapsed": true
   },
   "outputs": [],
   "source": [
    "Net = additive_net.Net\n",
    "Generator = uniform_01_generator.Generator\n",
    "Trainer = trainer.Trainer"
   ]
  },
  {
   "cell_type": "code",
   "execution_count": 5,
   "metadata": {},
   "outputs": [
    {
     "name": "stdout",
     "output_type": "stream",
     "text": [
      "INFO:tensorflow:Restoring parameters from experiments/additive_1x10_uniform/model-400000\n"
     ]
    },
    {
     "name": "stderr",
     "output_type": "stream",
     "text": [
      "2019-01-30 01:53:07,732:INFO:Restoring parameters from experiments/additive_1x10_uniform/model-400000\n",
      "2019-01-30 01:53:11,621:INFO:TEST BATCH-0: t = 3.8531, Net_Loss: -3.469761, Revenue: 3.469761\n",
      "2019-01-30 01:53:11,631:INFO:TEST BATCH-1: t = 3.8587, Net_Loss: -3.418889, Revenue: 3.418889\n",
      "2019-01-30 01:53:11,639:INFO:TEST BATCH-2: t = 3.8630, Net_Loss: -3.452765, Revenue: 3.452765\n",
      "2019-01-30 01:53:11,647:INFO:TEST BATCH-3: t = 3.8670, Net_Loss: -3.463082, Revenue: 3.463082\n",
      "2019-01-30 01:53:11,654:INFO:TEST BATCH-4: t = 3.8708, Net_Loss: -3.491514, Revenue: 3.491514\n",
      "2019-01-30 01:53:11,661:INFO:TEST BATCH-5: t = 3.8746, Net_Loss: -3.473212, Revenue: 3.473212\n",
      "2019-01-30 01:53:11,668:INFO:TEST BATCH-6: t = 3.8782, Net_Loss: -3.445038, Revenue: 3.445038\n",
      "2019-01-30 01:53:11,675:INFO:TEST BATCH-7: t = 3.8817, Net_Loss: -3.468786, Revenue: 3.468786\n",
      "2019-01-30 01:53:11,681:INFO:TEST BATCH-8: t = 3.8852, Net_Loss: -3.417095, Revenue: 3.417095\n",
      "2019-01-30 01:53:11,688:INFO:TEST BATCH-9: t = 3.8886, Net_Loss: -3.484708, Revenue: 3.484708\n",
      "2019-01-30 01:53:11,691:INFO:TEST ALL-400000: t = 3.8886, Net_Loss: -3.458485, Revenue: 3.458485\n"
     ]
    }
   ],
   "source": [
    "net = Net(cfg, \"test\")\n",
    "generator = Generator(cfg, 'test', X_tst)\n",
    "m = Trainer(cfg, \"test\", net)\n",
    "m.test(generator)"
   ]
  },
  {
   "cell_type": "code",
   "execution_count": 6,
   "metadata": {
    "collapsed": true
   },
   "outputs": [],
   "source": [
    "alloc = np.load(os.path.join(cfg.dir_name, \"alloc_tst_\" + str(cfg.test.restore_iter) + \".npy\"))"
   ]
  },
  {
   "cell_type": "code",
   "execution_count": 1,
   "metadata": {
    "collapsed": true
   },
   "outputs": [],
   "source": [
    "import os, glob, shutil"
   ]
  },
  {
   "cell_type": "code",
   "execution_count": 2,
   "metadata": {
    "collapsed": true
   },
   "outputs": [],
   "source": [
    "files = glob.glob(\"experiments/*/*.pdf\")"
   ]
  },
  {
   "cell_type": "code",
   "execution_count": 3,
   "metadata": {
    "collapsed": true
   },
   "outputs": [],
   "source": [
    "for i in range(len(files)):\n",
    "    shutil.copy(files[i], os.path.join(\"plots\", files[i][12:].replace(\"/\", \"_\")))"
   ]
  },
  {
   "cell_type": "code",
   "execution_count": 4,
   "metadata": {},
   "outputs": [
    {
     "data": {
      "text/plain": [
       "['experiments/additive_1x2_uniform_04_03/alloc1.pdf',\n",
       " 'experiments/additive_1x2_uniform_04_03/alloc2.pdf',\n",
       " 'experiments/unit_1x2_uniform_23/alloc1.pdf',\n",
       " 'experiments/unit_1x2_uniform_23/alloc2.pdf',\n",
       " 'experiments/additive_1x2_uniform_416_47/alloc1.pdf',\n",
       " 'experiments/additive_1x2_uniform_416_47/alloc2.pdf',\n",
       " 'experiments/unit_1x2_uniform/alloc1.pdf',\n",
       " 'experiments/unit_1x2_uniform/alloc2.pdf',\n",
       " 'experiments/additive_1x2_uniform/alloc1.pdf',\n",
       " 'experiments/additive_1x2_uniform/alloc2.pdf',\n",
       " 'experiments/additive_1x2_uniform_triangle/alloc1.pdf',\n",
       " 'experiments/additive_1x2_uniform_triangle/alloc2.pdf']"
      ]
     },
     "execution_count": 4,
     "metadata": {},
     "output_type": "execute_result"
    }
   ],
   "source": [
    "files"
   ]
  },
  {
   "cell_type": "code",
   "execution_count": null,
   "metadata": {
    "collapsed": true
   },
   "outputs": [],
   "source": []
  }
 ],
 "metadata": {
  "kernelspec": {
   "display_name": "Python 2",
   "language": "python",
   "name": "python2"
  },
  "language_info": {
   "codemirror_mode": {
    "name": "ipython",
    "version": 2
   },
   "file_extension": ".py",
   "mimetype": "text/x-python",
   "name": "python",
   "nbconvert_exporter": "python",
   "pygments_lexer": "ipython2",
   "version": "2.7.13"
  }
 },
 "nbformat": 4,
 "nbformat_minor": 2
}
