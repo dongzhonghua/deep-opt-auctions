{
 "cells": [
  {
   "cell_type": "code",
   "execution_count": 1,
   "metadata": {
    "collapsed": true
   },
   "outputs": [],
   "source": [
    "from __future__ import absolute_import\n",
    "from __future__ import division\n",
    "from __future__ import print_function\n",
    "\n",
    "import os\n",
    "import sys\n",
    "import numpy as np\n",
    "import tensorflow as tf\n",
    "import matplotlib.pyplot as plt\n",
    "\n",
    "from nets import *\n",
    "from cfgs import *\n",
    "from data import *\n",
    "from trainer import *"
   ]
  },
  {
   "cell_type": "code",
   "execution_count": 2,
   "metadata": {},
   "outputs": [
    {
     "name": "stdout",
     "output_type": "stream",
     "text": [
      "(10201, 2)\n"
     ]
    }
   ],
   "source": [
    "%matplotlib inline\n",
    "save_plot = True\n",
    "plt.rcParams.update({'font.size': 10, 'axes.labelsize': 'x-large'})\n",
    "D = 101\n",
    "\n",
    "x = np.linspace(0, 1.0, D)\n",
    "X_tst = np.stack([v.flatten() for v in np.meshgrid(x,x)], axis = -1)\n",
    "print(X_tst.shape)\n",
    "\n",
    "cfg = additive_1x2_uniform_config.cfg\n",
    "cfg.test.batch_size = D\n",
    "cfg.test.num_batches = int(X_tst.shape[0]/cfg.test.batch_size)\n",
    "cfg.test.save_output = True"
   ]
  },
  {
   "cell_type": "code",
   "execution_count": 3,
   "metadata": {
    "collapsed": true
   },
   "outputs": [],
   "source": [
    "Net = additive_net.Net\n",
    "Generator = uniform_01_generator.Generator\n",
    "Trainer = trainer.Trainer"
   ]
  },
  {
   "cell_type": "code",
   "execution_count": 4,
   "metadata": {},
   "outputs": [
    {
     "name": "stdout",
     "output_type": "stream",
     "text": [
      "INFO:tensorflow:Restoring parameters from experiments/additive_1x2_uniform/model-200000\n"
     ]
    },
    {
     "name": "stderr",
     "output_type": "stream",
     "text": [
      "2019-02-02 16:27:39,758:INFO:Restoring parameters from experiments/additive_1x2_uniform/model-200000\n",
      "2019-02-02 16:27:42,691:INFO:TEST ALL-200000: t = 2.9062, Net_Loss: -0.548426, Revenue: 0.548426\n"
     ]
    }
   ],
   "source": [
    "net = Net(cfg, \"test\")\n",
    "generator = Generator(cfg, 'test', X_tst)\n",
    "m = Trainer(cfg, \"test\", net)\n",
    "m.test(generator)"
   ]
  },
  {
   "cell_type": "code",
   "execution_count": 5,
   "metadata": {
    "collapsed": true
   },
   "outputs": [],
   "source": [
    "alloc = np.load(os.path.join(cfg.dir_name, \"alloc_tst_\" + str(cfg.test.restore_iter) + \".npy\")).reshape(D,D,2)\n",
    "pay = np.load(os.path.join(cfg.dir_name, \"pay_tst_\" + str(cfg.test.restore_iter) + \".npy\")).reshape(D,D)"
   ]
  },
  {
   "cell_type": "code",
   "execution_count": 6,
   "metadata": {},
   "outputs": [
    {
     "data": {
      "image/png": "[encoded data removed]",
      "text/plain": [
       "<matplotlib.figure.Figure at 0x2adc6496abd0>"
      ]
     },
     "metadata": {},
     "output_type": "display_data"
    }
   ],
   "source": [
    "x1 = (2.0 - np.sqrt(2.0))/3.0\n",
    "x2 = 2.0/3.0\n",
    "points = [(x1, 1.0), (x1, x2), (x2, x1), (x2, 0)]\n",
    "x = list(map(lambda x: x[0], points))\n",
    "y = list(map(lambda x: x[1], points))\n",
    "\n",
    "\n",
    "fig, ax = plt.subplots(ncols = 1, nrows = 1, figsize = (8,6))\n",
    "\n",
    "plt.plot(x, y, linewidth = 2, linestyle = '--', c='black')\n",
    "img = ax.imshow(alloc[::-1, :, 0], extent=[0,1,0,1], vmin = 0.0, vmax=1.0, cmap = 'YlOrRd')\n",
    "                    \n",
    "plt.text(0.25, 0.25, s='0', color='black', fontsize='10', fontweight='bold')\n",
    "plt.text(0.65, 0.65, s='1', color='black', fontsize='10', fontweight='bold')\n",
    "\n",
    "ax.set_xlabel('$v_1$')\n",
    "ax.set_ylabel('$v_2$')\n",
    "plt.title('Prob. of allocating item 1')\n",
    "_ = plt.colorbar(img, fraction=0.046, pad=0.04)\n",
    "\n",
    "if save_plot:\n",
    "    fig.set_size_inches(4, 3)\n",
    "    plt.savefig(os.path.join(cfg.dir_name, 'alloc1.pdf'), bbox_inches = 'tight', pad_inches = 0.05)"
   ]
  },
  {
   "cell_type": "code",
   "execution_count": 7,
   "metadata": {},
   "outputs": [
    {
     "data": {
      "image/png": "[encoded data removed]",
      "text/plain": [
       "<matplotlib.figure.Figure at 0x2adc64af8a90>"
      ]
     },
     "metadata": {},
     "output_type": "display_data"
    }
   ],
   "source": [
    "x1 = (2.0 - np.sqrt(2.0))/3.0\n",
    "x2 = 2.0/3.0\n",
    "points = [(0.0, x2), (x1, x2), (x2, x1), (1.0, x1)]\n",
    "\n",
    "x = list(map(lambda x: x[0], points))\n",
    "y = list(map(lambda x: x[1], points))\n",
    "\n",
    "plt.rcParams.update({'font.size': 10, 'axes.labelsize': 'x-large'})\n",
    "fig, ax = plt.subplots(ncols = 1, nrows = 1, figsize = (8,6))\n",
    "\n",
    "plt.plot(x, y, linewidth = 2, linestyle = '--', c='black')\n",
    "img = ax.imshow(alloc[::-1, :, 1], extent=[0,1,0,1], vmin = 0.0, vmax=1.0, cmap = 'YlOrRd')\n",
    "              \n",
    "plt.text(0.25, 0.25, s='0', color='black', fontsize='10', fontweight='bold')\n",
    "plt.text(0.65, 0.65, s='1', color='black', fontsize='10', fontweight='bold')\n",
    "    \n",
    "ax.set_xlabel('$v_1$')\n",
    "ax.set_ylabel('$v_2$')\n",
    "plt.title('Prob. of allocating item 2')\n",
    "_ = plt.colorbar(img, fraction=0.046, pad=0.04)\n",
    "\n",
    "if save_plot:\n",
    "    fig.set_size_inches(4, 3)\n",
    "    plt.savefig(os.path.join(cfg.dir_name, 'alloc2.pdf'), bbox_inches = 'tight', pad_inches = 0.05)"
   ]
  }
 ],
 "metadata": {
  "kernelspec": {
   "display_name": "Python 2",
   "language": "python",
   "name": "python2"
  },
  "language_info": {
   "codemirror_mode": {
    "name": "ipython",
    "version": 2
   },
   "file_extension": ".py",
   "mimetype": "text/x-python",
   "name": "python",
   "nbconvert_exporter": "python",
   "pygments_lexer": "ipython2",
   "version": "2.7.13"
  }
 },
 "nbformat": 4,
 "nbformat_minor": 2
}
