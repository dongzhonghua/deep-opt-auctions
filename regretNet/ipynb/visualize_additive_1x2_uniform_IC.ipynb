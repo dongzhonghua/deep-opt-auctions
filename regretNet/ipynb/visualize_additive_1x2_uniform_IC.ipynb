{
 "cells": [
  {
   "cell_type": "code",
   "execution_count": 1,
   "metadata": {},
   "outputs": [],
   "source": [
    "from __future__ import absolute_import\n",
    "from __future__ import division\n",
    "from __future__ import print_function\n",
    "\n",
    "\n",
    "import os\n",
    "import sys\n",
    "import time\n",
    "import shutil\n",
    "import numpy as np\n",
    "import tensorflow as tf\n",
    "import matplotlib.pyplot as plt\n",
    "\n",
    "from nets import *\n",
    "from cfgs import *\n",
    "from data import *\n",
    "from clip_ops.clip_ops import *\n",
    "from trainer import *"
   ]
  },
  {
   "cell_type": "code",
   "execution_count": 2,
   "metadata": {
    "collapsed": true
   },
   "outputs": [],
   "source": [
    "save_alloc_tst = False\n",
    "save_mis_tst = not save_alloc_tst"
   ]
  },
  {
   "cell_type": "code",
   "execution_count": 3,
   "metadata": {
    "collapsed": true
   },
   "outputs": [],
   "source": [
    "%matplotlib inline\n",
    "save_plot = True\n",
    "plt.rcParams.update({'font.size': 10, 'axes.labelsize': 'x-large'})\n",
    "D = 11\n",
    "Dm = 11\n",
    "Da = 201\n",
    "\n",
    "if save_alloc_tst:\n",
    "    Do, gd = Da, 0\n",
    "if save_mis_tst:\n",
    "    Do, gd = D, 2000\n",
    "\n",
    "cfg = additive_1x2_uniform_config.cfg\n",
    "cfg.test.num_misreports = Dm ** 2\n",
    "cfg.test.batch_size = Do\n",
    "cfg.test.num_batches = Do\n",
    "cfg.test.save_output = True\n",
    "cfg.test.num_instances = cfg.test.num_batches * cfg.test.batch_size\n",
    "cfg.test.gd_iter = gd\n",
    "cfg.test.restore_iter = 20000"
   ]
  },
  {
   "cell_type": "code",
   "execution_count": 4,
   "metadata": {},
   "outputs": [
    {
     "name": "stdout",
     "output_type": "stream",
     "text": [
      "(121, 1, 2)\n",
      "(121, 121, 1, 2)\n",
      "(40401, 1, 2)\n"
     ]
    }
   ],
   "source": [
    "x = np.linspace(0, 1.0, D)\n",
    "X_tst = np.stack([v.flatten() for v in np.meshgrid(x,x)], axis = -1)\n",
    "X_tst = np.expand_dims(X_tst, 1)\n",
    "print(X_tst.shape) # D^2, 1, 2\n",
    "\n",
    "x = np.linspace(0, 1.0, Dm)\n",
    "ADV = np.stack([v.flatten() for v in np.meshgrid(x,x)], axis = -1)\n",
    "ADV = np.expand_dims(ADV, 1) # Dm^2, 1, 2\n",
    "ADV = np.tile(ADV[:, np.newaxis, :, :], [1, D**2, 1, 1])\n",
    "print(ADV.shape) # Dm^2, D^2, 1, 2\n",
    "\n",
    "x = np.linspace(0, 1.0, Da)\n",
    "X_tst_all = np.stack([v.flatten() for v in np.meshgrid(x,x)], axis = -1)\n",
    "X_tst_all = np.expand_dims(X_tst_all, 1)\n",
    "print(X_tst_all.shape) # D^2, 1, 2"
   ]
  },
  {
   "cell_type": "code",
   "execution_count": 5,
   "metadata": {
    "collapsed": true
   },
   "outputs": [],
   "source": [
    "net = additive_net.Net(cfg)\n",
    "if save_alloc_tst:\n",
    "    generator = uniform_01_generator.Generator(cfg, \"test\", X_tst_all)\n",
    "if save_mis_tst:    \n",
    "    generator = uniform_01_generator.Generator(cfg, \"test\", X_tst, ADV)\n",
    "clip_op_lambda = (lambda x: clip_op_01(x))\n",
    "m = trainer.Trainer(cfg, \"test\", net, clip_op_lambda)"
   ]
  },
  {
   "cell_type": "code",
   "execution_count": 6,
   "metadata": {
    "collapsed": true
   },
   "outputs": [],
   "source": [
    "def test_m(self, generator, save_alloc_tst = False, save_mis_tst = True):\n",
    "        \"\"\"\n",
    "        Runs test\n",
    "        \"\"\"\n",
    "        \n",
    "        # Init generators\n",
    "        self.test_gen = generator\n",
    "\n",
    "        iter = self.config.test.restore_iter\n",
    "        sess = tf.InteractiveSession()\n",
    "        tf.global_variables_initializer().run()\n",
    "\n",
    "        model_path = os.path.join(self.config.dir_name,'model-' + str(iter))\n",
    "        self.saver.restore(sess, model_path)\n",
    "\n",
    "        #Test-set Stats\n",
    "        time_elapsed = 0\n",
    "            \n",
    "        metric_tot = np.zeros(len(self.metric_names))\n",
    "\n",
    "        if save_alloc_tst:\n",
    "            alloc_tst = np.zeros(self.test_gen.X.shape)\n",
    "            pay_tst = np.zeros(self.test_gen.X.shape[:-1])\n",
    "            \n",
    "        if save_mis_tst:\n",
    "            mis_tst = []\n",
    "                    \n",
    "        for i in range(self.config.test.num_batches):\n",
    "            tic = time.time()\n",
    "            X, ADV, perm = next(self.test_gen.gen_func)\n",
    "            sess.run(self.assign_op, feed_dict = {self.adv_init: ADV})\n",
    "            M = []\n",
    "            \n",
    "            if save_mis_tst: M.append(sess.run(self.misreports, feed_dict = {self.x: X}))\n",
    "                    \n",
    "            for k in range(self.config.test.gd_iter):\n",
    "                sess.run(self.test_mis_step, feed_dict = {self.x: X})\n",
    "                sess.run(self.clip_op)\n",
    "                if save_mis_tst: M.append(sess.run(self.misreports, feed_dict = {self.x: X}))\n",
    "\n",
    "            sess.run(self.reset_test_mis_opt)        \n",
    "                \n",
    "            metric_vals = sess.run(self.metrics, feed_dict = {self.x: X})\n",
    "            \n",
    "            if save_alloc_tst:\n",
    "                A, P = sess.run([self.alloc, self.pay], feed_dict = {self.x:X})\n",
    "                alloc_tst[perm, :, :] = A\n",
    "                pay_tst[perm, :] = P\n",
    "                \n",
    "            if save_mis_tst:\n",
    "                mis_tst.append(M)\n",
    "                \n",
    "            \n",
    "                    \n",
    "            metric_tot += metric_vals\n",
    "            toc = time.time()\n",
    "            time_elapsed += (toc - tic)\n",
    "\n",
    "            fmt_vals = tuple([ item for tup in zip(self.metric_names, metric_vals) for item in tup ])\n",
    "            log_str = \"TEST BATCH-%d: t = %.4f\"%(i, time_elapsed) + \", %s: %.6f\"*len(self.metric_names)%fmt_vals\n",
    "            self.logger.info(log_str)\n",
    "        \n",
    "        metric_tot = metric_tot/self.config.test.num_batches\n",
    "        fmt_vals = tuple([ item for tup in zip(self.metric_names, metric_tot) for item in tup ])\n",
    "        log_str = \"TEST ALL-%d: t = %.4f\"%(iter, time_elapsed) + \", %s: %.6f\"*len(self.metric_names)%fmt_vals\n",
    "        self.logger.info(log_str)\n",
    "            \n",
    "        if save_alloc_tst:\n",
    "            np.save(os.path.join(self.config.dir_name, 'alloc_tst_' + str(iter)), alloc_tst)\n",
    "            np.save(os.path.join(self.config.dir_name, 'pay_tst_' + str(iter)), pay_tst)\n",
    "            \n",
    "        if save_mis_tst:\n",
    "            np.save(os.path.join(self.config.dir_name, 'mis_tst_' + str(iter)), np.asarray(mis_tst))\n",
    "            "
   ]
  },
  {
   "cell_type": "code",
   "execution_count": 7,
   "metadata": {},
   "outputs": [
    {
     "name": "stdout",
     "output_type": "stream",
     "text": [
      "INFO:tensorflow:Restoring parameters from experiments/additive_1x2_uniform/model-20000\n"
     ]
    },
    {
     "name": "stderr",
     "output_type": "stream",
     "text": [
      "2019-02-21 12:47:43,130:INFO:Restoring parameters from experiments/additive_1x2_uniform/model-20000\n",
      "2019-02-21 12:47:53,943:INFO:TEST BATCH-0: t = 10.7743, Revenue: 0.209041, Regret: 0.002256, IRP: 0.000000\n",
      "2019-02-21 12:48:01,152:INFO:TEST BATCH-1: t = 17.9804, Revenue: 0.277091, Regret: 0.002215, IRP: 0.000000\n",
      "2019-02-21 12:48:08,349:INFO:TEST BATCH-2: t = 25.1740, Revenue: 0.349171, Regret: 0.002406, IRP: 0.000000\n",
      "2019-02-21 12:48:15,607:INFO:TEST BATCH-3: t = 32.4295, Revenue: 0.424323, Regret: 0.002581, IRP: 0.000000\n",
      "2019-02-21 12:48:22,799:INFO:TEST BATCH-4: t = 39.6191, Revenue: 0.501648, Regret: 0.002601, IRP: 0.000000\n",
      "2019-02-21 12:48:29,999:INFO:TEST BATCH-5: t = 46.8168, Revenue: 0.580461, Regret: 0.002573, IRP: 0.000000\n",
      "2019-02-21 12:48:37,266:INFO:TEST BATCH-6: t = 54.0819, Revenue: 0.660341, Regret: 0.002582, IRP: 0.000000\n",
      "2019-02-21 12:48:44,458:INFO:TEST BATCH-7: t = 61.2714, Revenue: 0.739251, Regret: 0.002645, IRP: 0.000000\n",
      "2019-02-21 12:48:51,648:INFO:TEST BATCH-8: t = 68.4600, Revenue: 0.807643, Regret: 0.002307, IRP: 0.000000\n",
      "2019-02-21 12:48:58,849:INFO:TEST BATCH-9: t = 75.6584, Revenue: 0.838473, Regret: 0.001093, IRP: 0.000000\n",
      "2019-02-21 12:49:06,050:INFO:TEST BATCH-10: t = 82.8577, Revenue: 0.843919, Regret: 0.001154, IRP: 0.000000\n",
      "2019-02-21 12:49:06,053:INFO:TEST ALL-20000: t = 82.8577, Revenue: 0.566488, Regret: 0.002219, IRP: 0.000000\n"
     ]
    }
   ],
   "source": [
    "test_m(m, generator, save_alloc_tst, save_mis_tst)"
   ]
  },
  {
   "cell_type": "code",
   "execution_count": 8,
   "metadata": {
    "collapsed": true
   },
   "outputs": [],
   "source": [
    "alloc = np.load(os.path.join(cfg.dir_name, \"alloc_tst_\" + str(cfg.test.restore_iter) + \".npy\"))\n",
    "pay = np.load(os.path.join(cfg.dir_name, \"pay_tst_\" + str(cfg.test.restore_iter) + \".npy\"))"
   ]
  },
  {
   "cell_type": "code",
   "execution_count": 9,
   "metadata": {
    "collapsed": true
   },
   "outputs": [],
   "source": [
    "mis = np.load(os.path.join(cfg.dir_name, \"mis_tst_\" + str(cfg.test.restore_iter) + \".npy\"))\n",
    "mis = mis.reshape(mis.shape[0], mis.shape[1], Dm**2, D, mis.shape[-2], mis.shape[-1])\n",
    "mis = mis.transpose([1, 2, 0, 3, 4, 5])\n",
    "mis = mis.reshape(mis.shape[0], Dm**2, D**2, mis.shape[-2], mis.shape[-1])"
   ]
  },
  {
   "cell_type": "code",
   "execution_count": 10,
   "metadata": {},
   "outputs": [
    {
     "name": "stdout",
     "output_type": "stream",
     "text": [
      "(2001, 121, 121, 1, 2)\n",
      "(40401, 1, 2)\n",
      "(40401, 1)\n"
     ]
    }
   ],
   "source": [
    "print(mis.shape)\n",
    "print(alloc.shape)\n",
    "print(pay.shape)"
   ]
  },
  {
   "cell_type": "code",
   "execution_count": 11,
   "metadata": {
    "collapsed": true
   },
   "outputs": [],
   "source": [
    "def compute_utility(x_true, alloc, pay):\n",
    "    x = np.tile(x_true[np.newaxis, np.newaxis, :], [alloc.shape[0], 1, 1])\n",
    "    u = (alloc * x).sum(-1) - pay\n",
    "    return u"
   ]
  },
  {
   "cell_type": "code",
   "execution_count": 37,
   "metadata": {
    "scrolled": true
   },
   "outputs": [
    {
     "name": "stdout",
     "output_type": "stream",
     "text": [
      "[ 0.6  0.1]\n",
      "[ 0.6  0.1]\n",
      "0.00437976047397\n"
     ]
    },
    {
     "data": {
      "image/png": "[encoded data removed]",
      "text/plain": [
       "<matplotlib.figure.Figure at 0x2b991228a950>"
      ]
     },
     "metadata": {},
     "output_type": "display_data"
    }
   ],
   "source": [
    "idx_no = 17\n",
    "x_true = X_tst[idx_no][0]\n",
    "print(x_true)\n",
    "plt.scatter(mis[-1, :, idx_no, 0, 0], mis[-1, :, idx_no, 0, 1])\n",
    "plt.scatter(mis[0, :, idx_no, 0, 0], mis[0, :, idx_no, 0, 1])\n",
    "plt.scatter(x_true[0], x_true[1])\n",
    "\n",
    "r = (Da - 1)//(Dm - 1)\n",
    "idx_all = idx_no//11 * Da * r + idx_no%11 * r\n",
    "print(X_tst_all[idx_all][0])\n",
    "\n",
    "u_mis = compute_utility(x_true, alloc, pay)\n",
    "u_true = (X_tst_all[idx_all][0] *  alloc[idx_all][0]).sum() - pay[idx_all][0]\n",
    "u_img = compute_utility(x_true, alloc, pay).reshape(Da, Da)[::-1, :] - u_true\n",
    "print(u_img.max())"
   ]
  },
  {
   "cell_type": "code",
   "execution_count": null,
   "metadata": {},
   "outputs": [
    {
     "name": "stdout",
     "output_type": "stream",
     "text": [
      "Processed 2 of 2000 imgs\n",
      "Processed 4 of 2000 imgs\n",
      "Processed 6 of 2000 imgs\n",
      "Processed 8 of 2000 imgs\n",
      "Processed 10 of 2000 imgs\n",
      "Processed 12 of 2000 imgs\n",
      "Processed 14 of 2000 imgs\n",
      "Processed 16 of 2000 imgs\n",
      "Processed 18 of 2000 imgs\n",
      "Processed 20 of 2000 imgs\n",
      "Processed 22 of 2000 imgs\n",
      "Processed 24 of 2000 imgs\n",
      "Processed 26 of 2000 imgs\n",
      "Processed 28 of 2000 imgs\n",
      "Processed 30 of 2000 imgs\n",
      "Processed 32 of 2000 imgs\n",
      "Processed 34 of 2000 imgs\n",
      "Processed 36 of 2000 imgs\n",
      "Processed 38 of 2000 imgs\n",
      "Processed 40 of 2000 imgs\n",
      "Processed 42 of 2000 imgs\n",
      "Processed 44 of 2000 imgs\n",
      "Processed 46 of 2000 imgs\n",
      "Processed 48 of 2000 imgs\n",
      "Processed 50 of 2000 imgs\n",
      "Processed 60 of 2000 imgs\n",
      "Processed 70 of 2000 imgs\n",
      "Processed 80 of 2000 imgs\n",
      "Processed 90 of 2000 imgs\n",
      "Processed 100 of 2000 imgs\n"
     ]
    }
   ],
   "source": [
    "mis_all = mis\n",
    "mis_no = np.random.permutation(Dm**2)[:15]\n",
    "\n",
    "x1 = (2.0 - np.sqrt(2.0))/3.0\n",
    "x2 = 2.0/3.0\n",
    "\n",
    "D0 = Da\n",
    "\n",
    "vis_dir = \"vis_tmp\"\n",
    "if not os.path.exists(vis_dir): os.mkdir(vis_dir)\n",
    "\n",
    "it = 0\n",
    "while it < 2001:\n",
    "    fig, ax = plt.subplots(ncols = 1, nrows = 1, figsize = (8,6))\n",
    "    fig.tight_layout();\n",
    "    \n",
    "    im_plot = ax.imshow(u_img, extent=[0, 1, 0, 1], vmin = u_img.min(), vmax=u_img.max())\n",
    "    plt.colorbar(im_plot, ax = ax,fraction=0.046, pad=0.04)\n",
    "    \n",
    "        \n",
    "    ax.plot(np.linspace(x1,x1), np.linspace(1,x2), linewidth = 2, linestyle = '--', c='black')\n",
    "    ax.plot(np.linspace(x1,x2), np.linspace(x2,x1), linewidth = 2, linestyle = '--', c='black')\n",
    "    ax.plot(np.linspace(x2,x2), np.linspace(x1,0.0), linewidth = 2, linestyle = '--', c='black')\n",
    "    ax.plot(np.linspace(0.0,x1), np.linspace(x2,x2), linewidth = 2, linestyle = '--', c='black')\n",
    "    ax.plot(np.linspace(x2,1.0), np.linspace(x1,x1), linewidth = 2, linestyle = '--', c='black')\n",
    "\n",
    "    ax.plot(mis_all[:it+1, mis_no, idx_no, 0,  0], mis_all[:it+1, mis_no, idx_no, 0,  1], '--')\n",
    "    ms, = ax.plot(mis_all[0, mis_no, idx_no, 0,  0], mis_all[0, mis_no, idx_no, 0,  1], 'rx')\n",
    "    me, = ax.plot(mis_all[it, mis_no, idx_no, 0,  0], mis_all[it, mis_no, idx_no, 0,  1], 'ro')\n",
    "    v, = ax.plot(x_true[0], x_true[1], 'go', markersize=9)\n",
    "    \n",
    "    ax.set_xlabel(\"mis_v1\")\n",
    "    ax.set_ylabel(\"mis_v2\")\n",
    "    ax.set_title(\"U_mis - U_true | Iter: %d\"%it)  \n",
    "    \n",
    "    \n",
    "    ax.legend([v, ms, me], ['v_true', 'mis_init', 'mis_curr'], loc='upper center', bbox_to_anchor=(0.5, -0.1),\n",
    "          ncol=3, fancybox=True, shadow=True)\n",
    "    \n",
    "    \n",
    "\n",
    "    fig.savefig(os.path.join(vis_dir, \"tmp\" + str(it) + \".png\"), bbox_inches='tight',dpi=60)\n",
    "    plt.close()\n",
    "    \n",
    "    if it < 50: it += 2\n",
    "    elif it < 200: it += 10\n",
    "    else: it += 100\n",
    "    print(\"Processed %d of %d imgs\"%(it, 2000))\n",
    "\n",
    "os.chdir(vis_dir)\n",
    "cmd_str = \"convert -delay 20 -loop 0 `ls -v` %s\"%(os.path.join(\"../\", vis_dir + \".gif\"))\n",
    "print(\"Running: %s\"%cmd_str)\n",
    "os.system(cmd_str)\n",
    "os.chdir(\"..\")\n",
    "\n",
    "out_fname = os.path.join(cfg.dir_name, \"%d_vis_%.2fx%.2f.gif\"%(cfg.test.restore_iter, x_true[0], x_true[1]))\n",
    "print(\"Output file: %s\"%out_fname)\n",
    "shutil.move(vis_dir + \".gif\", out_fname)\n",
    "shutil.rmtree(vis_dir)"
   ]
  },
  {
   "cell_type": "code",
   "execution_count": null,
   "metadata": {
    "collapsed": true
   },
   "outputs": [],
   "source": []
  }
 ],
 "metadata": {
  "kernelspec": {
   "display_name": "Python 2",
   "language": "python",
   "name": "python2"
  },
  "language_info": {
   "codemirror_mode": {
    "name": "ipython",
    "version": 2
   },
   "file_extension": ".py",
   "mimetype": "text/x-python",
   "name": "python",
   "nbconvert_exporter": "python",
   "pygments_lexer": "ipython2",
   "version": "2.7.13"
  }
 },
 "nbformat": 4,
 "nbformat_minor": 2
}
