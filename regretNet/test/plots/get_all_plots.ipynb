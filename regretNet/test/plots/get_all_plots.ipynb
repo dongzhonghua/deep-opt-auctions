{
 "cells": [
  {
   "cell_type": "code",
   "execution_count": 1,
   "metadata": {
    "collapsed": true
   },
   "outputs": [],
   "source": [
    "import os\n",
    "import glob\n",
    "import shutil"
   ]
  },
  {
   "cell_type": "code",
   "execution_count": null,
   "metadata": {
    "collapsed": true
   },
   "outputs": [],
   "source": [
    "plots = glob.glob(\"../experiments/*/*.pdf\")"
   ]
  },
  {
   "cell_type": "code",
   "execution_count": null,
   "metadata": {},
   "outputs": [
    {
     "name": "stdout",
     "output_type": "stream",
     "text": [
      "Copied additive_1x2_uniform_04_03_alloc1.pdf\n",
      "Copied additive_1x2_uniform_04_03_alloc2.pdf\n",
      "Copied unit_1x2_uniform_23_alloc1.pdf\n",
      "Copied unit_1x2_uniform_23_alloc2.pdf\n"
     ]
    }
   ],
   "source": [
    "for p in plots:\n",
    "    shutil.copy(p, p[15:].replace(\"/\", \"_\"))\n",
    "    print(\"Copied %s\"%(p[15:].replace(\"/\", \"_\")))"
   ]
  },
  {
   "cell_type": "code",
   "execution_count": null,
   "metadata": {
    "collapsed": true
   },
   "outputs": [],
   "source": []
  }
 ],
 "metadata": {
  "kernelspec": {
   "display_name": "Python 2",
   "language": "python",
   "name": "python2"
  },
  "language_info": {
   "codemirror_mode": {
    "name": "ipython",
    "version": 2
   },
   "file_extension": ".py",
   "mimetype": "text/x-python",
   "name": "python",
   "nbconvert_exporter": "python",
   "pygments_lexer": "ipython2",
   "version": "2.7.13"
  }
 },
 "nbformat": 4,
 "nbformat_minor": 2
}
